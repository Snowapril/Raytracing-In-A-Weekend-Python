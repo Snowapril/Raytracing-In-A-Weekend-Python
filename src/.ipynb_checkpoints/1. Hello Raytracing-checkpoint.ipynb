{
 "cells": [
  {
   "cell_type": "code",
   "execution_count": 18,
   "metadata": {},
   "outputs": [],
   "source": [
    "img_width  = 900\n",
    "img_height = 600\n",
    "\n",
    "with open(\"1.hello-ray-tracing.ppm\", \"w\") as img :\n",
    "    img.write(\"P3\\n\");\n",
    "    img.write(\"{0:d} {1:d}\\n\".format(img_width, img_height))\n",
    "    img.write(\"255\\n\")\n",
    "    \n",
    "    for j in range(img_height - 1, -1, - 1) :\n",
    "        for i in range(img_width) : \n",
    "            r = float(i) / float(img_width)\n",
    "            g = float(j) / float(img_height)\n",
    "            b = 0.2\n",
    "            \n",
    "            ir = int(r * 255)\n",
    "            ig = int(g * 255)\n",
    "            ib = int(b * 255)\n",
    "            \n",
    "            img.write(\"{0:d} {1:d} {2:d}\\n\".format(ir, ig, ib))"
   ]
  },
  {
   "cell_type": "code",
   "execution_count": null,
   "metadata": {},
   "outputs": [],
   "source": []
  }
 ],
 "metadata": {
  "kernelspec": {
   "display_name": "Python 3",
   "language": "python",
   "name": "python3"
  },
  "language_info": {
   "codemirror_mode": {
    "name": "ipython",
    "version": 3
   },
   "file_extension": ".py",
   "mimetype": "text/x-python",
   "name": "python",
   "nbconvert_exporter": "python",
   "pygments_lexer": "ipython3",
   "version": "3.6.8"
  }
 },
 "nbformat": 4,
 "nbformat_minor": 2
}
