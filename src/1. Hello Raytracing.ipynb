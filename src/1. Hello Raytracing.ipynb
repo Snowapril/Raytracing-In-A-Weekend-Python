{
 "cells": [
  {
   "cell_type": "code",
   "execution_count": 1,
   "metadata": {},
   "outputs": [],
   "source": [
    "width     = 900\n",
    "height    = 600\n",
    "max_color = 255\n",
    "\n",
    "with open(\"1.hello-ray-tracing.ppm\", \"w\") as img :\n",
    "    img.write(\"P3\\n{0:d} {1:d}\\n255\\n\".format(width, height))\n",
    "    \n",
    "    for j in range(height - 1, -1, - 1) :\n",
    "        for i in range(width) : \n",
    "            r = float(i) / float(width)\n",
    "            g = float(j) / float(height)\n",
    "            b = 0.2\n",
    "            \n",
    "            # convert float to integer between 0 and 255\n",
    "            ir = int(r * max_color)\n",
    "            ig = int(g * max_color)\n",
    "            ib = int(b * max_color)\n",
    "            \n",
    "            # write Red, Green, Blue value to ppm image file.\n",
    "            img.write(\"{0:d} {1:d} {2:d}\\n\".format(ir, ig, ib))"
   ]
  },
  {
   "cell_type": "code",
   "execution_count": null,
   "metadata": {},
   "outputs": [],
   "source": []
  }
 ],
 "metadata": {
  "kernelspec": {
   "display_name": "Python 3",
   "language": "python",
   "name": "python3"
  },
  "language_info": {
   "codemirror_mode": {
    "name": "ipython",
    "version": 3
   },
   "file_extension": ".py",
   "mimetype": "text/x-python",
   "name": "python",
   "nbconvert_exporter": "python",
   "pygments_lexer": "ipython3",
   "version": "3.6.8"
  }
 },
 "nbformat": 4,
 "nbformat_minor": 2
}
