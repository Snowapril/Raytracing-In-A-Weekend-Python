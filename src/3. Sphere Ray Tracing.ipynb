{
 "cells": [
  {
   "cell_type": "code",
   "execution_count": 1,
   "metadata": {},
   "outputs": [],
   "source": [
    "import math\n",
    "\n",
    "class vec3 :\n",
    "    def __init__(self, x, y, z) :\n",
    "        self.x = x\n",
    "        self.y = y\n",
    "        self.z = z\n",
    "        \n",
    "    def length(self) :\n",
    "        return math.sqrt( self.x * self.x + self.y * self.y + self.z * self.z )\n",
    "    \n",
    "    def normalize(self) :\n",
    "        v_length = self.length()\n",
    "        self.x = self.x / v_length\n",
    "        self.y = self.y / v_length\n",
    "        self.z = self.z / v_length\n",
    "    \n",
    "    def dot(self, other_v) :\n",
    "        return self.x * other_v.x + self.y * other_v.y + self.z * other_v.z\n",
    "    \n",
    "    def __add__(self, other_v) :\n",
    "        if isinstance(other_v, self.__class__):\n",
    "            return vec3( self.x + other_v.x, self.y + other_v.y, self.z + other_v.z )\n",
    "        else :\n",
    "            return vec3( self.x + other_v, self.y + other_v, self.z + other_v )\n",
    "    \n",
    "    def __sub__(self, other_v) :\n",
    "        if isinstance(other_v, self.__class__):\n",
    "            return vec3( self.x - other_v.x, self.y - other_v.y, self.z - other_v.z )\n",
    "        else :\n",
    "            return vec3( self.x - other_v, self.y - other_v, self.z - other_v )\n",
    "    \n",
    "    def __mul__(self, other_v) :\n",
    "        if isinstance(other_v, self.__class__):\n",
    "            return vec3( self.x * other_v.x, self.y * other_v.y, self.z * other_v.z )\n",
    "        else :\n",
    "            return vec3( self.x * other_v, self.y * other_v, self.z * other_v )\n",
    "    \n",
    "    def __truediv__(self, other_v) :\n",
    "        if isinstance(other_v, self.__class__):\n",
    "            return vec3( self.x / other_v.x, self.y / other_v.y, self.z / other_v.z )\n",
    "        else :\n",
    "            return vec3( self.x / other_v, self.y / other_v, self.z / other_v )"
   ]
  },
  {
   "cell_type": "code",
   "execution_count": 2,
   "metadata": {},
   "outputs": [],
   "source": [
    "class ray :\n",
    "    def __init__(self, v1, v2) :\n",
    "        self.A = v1\n",
    "        self.B = v2\n",
    "        \n",
    "    def point_at(self, t) :\n",
    "        return self.A + t * self.B\n",
    "        \n",
    "    def get_direction(self) :\n",
    "        return self.B\n",
    "        \n",
    "    def get_origin(self) :\n",
    "        return self.A"
   ]
  },
  {
   "cell_type": "code",
   "execution_count": 3,
   "metadata": {},
   "outputs": [],
   "source": [
    "class sphere :\n",
    "    def __init__(self, center, radius) :\n",
    "        self.center = center\n",
    "        self.radius = radius\n",
    "        \n",
    "    def hit_sphere(self, r) :\n",
    "        oc = r.get_origin() - self.center\n",
    "        direction = r.get_direction()\n",
    "        a = direction.dot( direction )\n",
    "        b = 2.0 * oc.dot(direction)\n",
    "        c = oc.dot(oc) - self.radius * self.radius\n",
    "        D = b * b - 4* a * c\n",
    "        return D > 0"
   ]
  },
  {
   "cell_type": "code",
   "execution_count": 4,
   "metadata": {},
   "outputs": [],
   "source": [
    "def color(r, s) :\n",
    "    if s.hit_sphere(r) :\n",
    "        return vec3(0.0, 1.0, 0.0)\n",
    "    \n",
    "    dir = r.get_direction()\n",
    "    dir.normalize()\n",
    "    t = (dir.y + 1.0) * 0.5\n",
    "    return vec3(0.5, 0.7, 1.0) * t + vec3(1.0, 1.0, 1.0) * (1.0 - t) "
   ]
  },
  {
   "cell_type": "code",
   "execution_count": 5,
   "metadata": {},
   "outputs": [],
   "source": [
    "width = 200\n",
    "height = 100\n",
    "\n",
    "origin_pos = vec3(0.0, 0.0, 0.0)\n",
    "left_bottom_pos = vec3(-2.0, -1.0, -1.0)\n",
    "horizontal = vec3(4.0, 0.0, 0.0)\n",
    "vertical = vec3(0.0, 2.0, 0.0)\n",
    "s = sphere(vec3(0.0, 0.0, -1.0), 0.5)\n",
    "\n",
    "with open(\"test.ppm\", 'w') as img :\n",
    "    img.write(\"P3\\n{0:d} {1:d}\\n255\\n\".format(width, height))\n",
    "    for j in range(height - 1, -1, -1) :\n",
    "        for i in range(width) :\n",
    "            u = float(i) / width\n",
    "            v = float(j) / height\n",
    "            u_v = horizontal * u\n",
    "            v_v = vertical * v\n",
    "            target_pos = left_bottom_pos + u_v + v_v\n",
    "            \n",
    "            col = color(ray(origin_pos, target_pos), s)\n",
    "            ir = int(col.x * 255)\n",
    "            ig = int(col.y * 255)\n",
    "            ib = int(col.z * 255)\n",
    "            \n",
    "            img.write(\"{0:d} {1:d} {2:d}\\n\".format(ir, ig, ib))"
   ]
  },
  {
   "cell_type": "code",
   "execution_count": 6,
   "metadata": {},
   "outputs": [
    {
     "ename": "TypeError",
     "evalue": "unsupported operand type(s) for *: 'float' and 'vec3'",
     "output_type": "error",
     "traceback": [
      "\u001b[1;31m---------------------------------------------------------------------------\u001b[0m",
      "\u001b[1;31mTypeError\u001b[0m                                 Traceback (most recent call last)",
      "\u001b[1;32m<ipython-input-6-141b40f99813>\u001b[0m in \u001b[0;36m<module>\u001b[1;34m\u001b[0m\n\u001b[0;32m      1\u001b[0m \u001b[0ma\u001b[0m \u001b[1;33m=\u001b[0m \u001b[1;36m1.0\u001b[0m\u001b[1;33m\u001b[0m\u001b[0m\n\u001b[0;32m      2\u001b[0m \u001b[0mv\u001b[0m \u001b[1;33m=\u001b[0m \u001b[0mvec3\u001b[0m\u001b[1;33m(\u001b[0m\u001b[1;36m1\u001b[0m\u001b[1;33m,\u001b[0m \u001b[1;36m2\u001b[0m\u001b[1;33m,\u001b[0m \u001b[1;36m3\u001b[0m\u001b[1;33m)\u001b[0m\u001b[1;33m\u001b[0m\u001b[0m\n\u001b[1;32m----> 3\u001b[1;33m \u001b[0mv\u001b[0m \u001b[1;33m=\u001b[0m \u001b[0ma\u001b[0m \u001b[1;33m*\u001b[0m \u001b[0mv\u001b[0m\u001b[1;33m\u001b[0m\u001b[0m\n\u001b[0m\u001b[0;32m      4\u001b[0m \u001b[0mprint\u001b[0m\u001b[1;33m(\u001b[0m\u001b[0mv\u001b[0m\u001b[1;33m.\u001b[0m\u001b[0mz\u001b[0m\u001b[1;33m)\u001b[0m\u001b[1;33m\u001b[0m\u001b[0m\n",
      "\u001b[1;31mTypeError\u001b[0m: unsupported operand type(s) for *: 'float' and 'vec3'"
     ]
    }
   ],
   "source": [
    "a = 1.0\n",
    "v = vec3(1, 2, 3)\n",
    "v = a * v\n",
    "print(v.z)"
   ]
  },
  {
   "cell_type": "code",
   "execution_count": null,
   "metadata": {},
   "outputs": [],
   "source": []
  }
 ],
 "metadata": {
  "kernelspec": {
   "display_name": "Python 3",
   "language": "python",
   "name": "python3"
  },
  "language_info": {
   "codemirror_mode": {
    "name": "ipython",
    "version": 3
   },
   "file_extension": ".py",
   "mimetype": "text/x-python",
   "name": "python",
   "nbconvert_exporter": "python",
   "pygments_lexer": "ipython3",
   "version": "3.7.0"
  }
 },
 "nbformat": 4,
 "nbformat_minor": 2
}
